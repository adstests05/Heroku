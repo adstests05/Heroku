{
 "cells": [
  {
   "cell_type": "markdown",
   "metadata": {},
   "source": [
    "# Support Vector Machine"
   ]
  },
  {
   "cell_type": "code",
   "execution_count": 2,
   "metadata": {},
   "outputs": [],
   "source": [
    "from sklearn.model_selection import train_test_split\n",
    "from sklearn.preprocessing import LabelEncoder\n",
    "from sklearn.feature_extraction.text import CountVectorizer\n",
    "from sklearn.feature_extraction.text import TfidfVectorizer\n",
    "from sklearn import svm\n",
    "from sklearn import metrics\n",
    "from pandas_ml import ConfusionMatrix\n",
    "from matplotlib import pyplot as plt\n",
    "from sklearn.metrics import f1_score\n",
    "from sklearn.metrics import roc_auc_score\n",
    "import os\n",
    "import sklearn\n",
    "import seaborn as sns\n",
    "import pickle\n",
    "import itertools\n",
    "import numpy as np \n",
    "import nltk\n",
    "import string\n",
    "import pandas as pd\n",
    "import re\n",
    "\n",
    "#df = pd.read_csv(os.getcwd()+'\\data\\CleanData.csv', encoding = 'utf-8')\n",
    "\n",
    "#df.head()"
   ]
  },
  {
   "cell_type": "markdown",
   "metadata": {},
   "source": [
    "#### Label Encoder"
   ]
  },
  {
   "cell_type": "code",
   "execution_count": 2,
   "metadata": {},
   "outputs": [
    {
     "name": "stdout",
     "output_type": "stream",
     "text": [
      "['Real' 'Real' 'Real' ... 'Fake' 'Fake' 'Fake']\n",
      "[1 1 1 ... 0 0 0]\n"
     ]
    }
   ],
   "source": [
    "Content = df['Content'].values \n",
    "\n",
    "Labels = df['Label'].values\n",
    "\n",
    "print(Labels)\n",
    "\n",
    "le = LabelEncoder()\n",
    "le.fit(Labels)\n",
    "Labels = le.transform(Labels)\n",
    "\n",
    "print(Labels)\n",
    "\n",
    "X_train, X_test, y_train, y_test = train_test_split(Content, Labels, test_size=0.33, random_state=53)"
   ]
  },
  {
   "cell_type": "markdown",
   "metadata": {},
   "source": [
    "#### Stemming and setting stopwords"
   ]
  },
  {
   "cell_type": "code",
   "execution_count": 3,
   "metadata": {},
   "outputs": [],
   "source": [
    "import nltk\n",
    "from nltk.corpus import stopwords \n",
    "\n",
    "porter_stemmer = nltk.stem.porter.PorterStemmer()\n",
    "\n",
    "#spilts the sentences into words\n",
    "def porter_tokenizer(text, stemmer=porter_stemmer):\n",
    "    lower_txt = text.lower()\n",
    "    tokens = nltk.wordpunct_tokenize(lower_txt)\n",
    "    stems = [porter_stemmer.stem(t) for t in tokens]\n",
    "    no_punct = [s for s in stems if re.match('^[a-zA-Z]+$', s) is not None]\n",
    "    return no_punct\n",
    "\n",
    "stop_words = set(stopwords.words('english')) "
   ]
  },
  {
   "cell_type": "markdown",
   "metadata": {},
   "source": [
    "#### CountVectorizer"
   ]
  },
  {
   "cell_type": "code",
   "execution_count": 4,
   "metadata": {},
   "outputs": [
    {
     "name": "stderr",
     "output_type": "stream",
     "text": [
      "C:\\ProgramData\\Anaconda3\\lib\\site-packages\\sklearn\\feature_extraction\\text.py:300: UserWarning: Your stop_words may be inconsistent with your preprocessing. Tokenizing the stop words generated tokens ['abov', 'afterward', 'alon', 'alreadi', 'alway', 'ani', 'anoth', 'anyon', 'anyth', 'anywher', 'becam', 'becaus', 'becom', 'befor', 'besid', 'cri', 'describ', 'dure', 'els', 'elsewher', 'empti', 'everi', 'everyon', 'everyth', 'everywher', 'fifti', 'formerli', 'forti', 'ha', 'henc', 'hereaft', 'herebi', 'hi', 'howev', 'hundr', 'inde', 'latterli', 'mani', 'meanwhil', 'moreov', 'mostli', 'nobodi', 'noon', 'noth', 'nowher', 'onc', 'onli', 'otherwis', 'ourselv', 'perhap', 'pleas', 'seriou', 'sever', 'sinc', 'sincer', 'sixti', 'someon', 'someth', 'sometim', 'somewher', 'themselv', 'thenc', 'thereaft', 'therebi', 'therefor', 'thi', 'thu', 'togeth', 'twelv', 'twenti', 'veri', 'wa', 'whatev', 'whenc', 'whenev', 'wherea', 'whereaft', 'wherebi', 'wherev', 'whi', 'yourselv'] not in stop_words.\n",
      "  'stop_words.' % sorted(inconsistent))\n"
     ]
    },
    {
     "name": "stdout",
     "output_type": "stream",
     "text": [
      "CountVectorizer(analyzer='word', binary=False, decode_error='replace',\n",
      "        dtype=<class 'numpy.int64'>, encoding='utf-8', input='content',\n",
      "        lowercase=True, max_df=1.0, max_features=None, min_df=1,\n",
      "        ngram_range=(1, 2), preprocessor=None, stop_words='english',\n",
      "        strip_accents='unicode', token_pattern='(?u)\\\\b\\\\w\\\\w+\\\\b',\n",
      "        tokenizer=<function porter_tokenizer at 0x000002E73917F9D8>,\n",
      "        vocabulary=None)\n"
     ]
    }
   ],
   "source": [
    "count_vectorizer = CountVectorizer(stop_words='english',\n",
    "                                   encoding='utf-8',\n",
    "                                   decode_error='replace',\n",
    "                                   strip_accents='unicode',\n",
    "                                   analyzer='word',\n",
    "                                   tokenizer=porter_tokenizer,\n",
    "                                   ngram_range=(1,2),\n",
    "                                   binary=False)\n",
    "#testing the implementation\n",
    "con = df['Content'].loc[1]\n",
    "con = [con]\n",
    "\n",
    "vect = count_vectorizer.fit(con)\n",
    "print(vect)\n",
    "\n",
    "# Fit and transform the training data \n",
    "count_train = count_vectorizer.fit_transform(X_train)\n",
    "\n",
    "# Transform the test set \n",
    "count_test = count_vectorizer.transform(X_test)\n",
    "\n",
    "# Get the feature names of `count_vectorizer` \n",
    "# print(count_vectorizer.get_feature_names()[30:])\n"
   ]
  },
  {
   "cell_type": "markdown",
   "metadata": {},
   "source": [
    "#### TfIDFVectorizer"
   ]
  },
  {
   "cell_type": "code",
   "execution_count": 5,
   "metadata": {},
   "outputs": [
    {
     "name": "stderr",
     "output_type": "stream",
     "text": [
      "C:\\ProgramData\\Anaconda3\\lib\\site-packages\\sklearn\\feature_extraction\\text.py:300: UserWarning: Your stop_words may be inconsistent with your preprocessing. Tokenizing the stop words generated tokens ['abov', 'afterward', 'alon', 'alreadi', 'alway', 'ani', 'anoth', 'anyon', 'anyth', 'anywher', 'becam', 'becaus', 'becom', 'befor', 'besid', 'cri', 'describ', 'dure', 'els', 'elsewher', 'empti', 'everi', 'everyon', 'everyth', 'everywher', 'fifti', 'formerli', 'forti', 'ha', 'henc', 'hereaft', 'herebi', 'hi', 'howev', 'hundr', 'inde', 'latterli', 'mani', 'meanwhil', 'moreov', 'mostli', 'nobodi', 'noon', 'noth', 'nowher', 'onc', 'onli', 'otherwis', 'ourselv', 'perhap', 'pleas', 'seriou', 'sever', 'sinc', 'sincer', 'sixti', 'someon', 'someth', 'sometim', 'somewher', 'themselv', 'thenc', 'thereaft', 'therebi', 'therefor', 'thi', 'thu', 'togeth', 'twelv', 'twenti', 'veri', 'wa', 'whatev', 'whenc', 'whenev', 'wherea', 'whereaft', 'wherebi', 'wherev', 'whi', 'yourselv'] not in stop_words.\n",
      "  'stop_words.' % sorted(inconsistent))\n"
     ]
    },
    {
     "name": "stdout",
     "output_type": "stream",
     "text": [
      "TfidfVectorizer(analyzer='word', binary=False, decode_error='replace',\n",
      "        dtype=<class 'numpy.float64'>, encoding='utf-8', input='content',\n",
      "        lowercase=True, max_df=1.0, max_features=None, min_df=1,\n",
      "        ngram_range=(1, 2), norm='l2', preprocessor=None, smooth_idf=True,\n",
      "        stop_words='english', strip_accents='unicode', sublinear_tf=False,\n",
      "        token_pattern='(?u)\\\\b\\\\w\\\\w+\\\\b',\n",
      "        tokenizer=<function porter_tokenizer at 0x000002E73917F9D8>,\n",
      "        use_idf=True, vocabulary=None)\n"
     ]
    }
   ],
   "source": [
    "tfidf_vectorizer = TfidfVectorizer(stop_words='english',\n",
    "                                   encoding='utf-8',\n",
    "                                   decode_error='replace',\n",
    "                                   strip_accents='unicode',\n",
    "                                   analyzer='word',\n",
    "                                   tokenizer=porter_tokenizer,\n",
    "                                   ngram_range=(1,2),\n",
    "                                   binary=False)\n",
    "\n",
    "# # Fit and transform the training data \n",
    "# tfidf_train = tfidf_vectorizer.fit_transform(X_train) \n",
    "\n",
    "# # Transform the test set \n",
    "# tfidf_test = tfidf_vectorizer.transform(X_test)\n",
    "\n",
    "#testing the implementation\n",
    "tfcon = df['Content'].loc[1]\n",
    "tfcon = [tfcon]\n",
    "\n",
    "tfvect = tfidf_vectorizer.fit(con)\n",
    "print(tfvect)\n",
    "\n",
    "# Fit and transform the training data \n",
    "tfidf_train = tfidf_vectorizer.fit_transform(X_train)\n",
    "\n",
    "# Transform the test set \n",
    "tfidf_test = tfidf_vectorizer.transform(X_test)\n",
    "\n",
    "# Get the feature names of `count_vectorizer` \n",
    "# print(tfidf_vectorizer.get_feature_names()[30:])\n"
   ]
  },
  {
   "cell_type": "code",
   "execution_count": 12,
   "metadata": {},
   "outputs": [],
   "source": [
    "# Confusion Matrix\n",
    "import matplotlib as mp\n",
    "\n",
    "def evaluation(cm):\n",
    "    TN = cm[0][0]\n",
    "    FP = cm[0][1]\n",
    "    FN = cm[1][0]\n",
    "    TP = cm[1][1]\n",
    "\n",
    "    #Calculating precision\n",
    "    def Precision_Cal(TP,FP):\n",
    "        return TP/(TP+FP)\n",
    "\n",
    "    #Calculating recall\n",
    "    def Recall_Cal(TP,FN):\n",
    "        return TP/(TP+FN)\n",
    "\n",
    "    #Calculating F1 score\n",
    "    def F1_Cal(precision,recall):\n",
    "        f1 = 2*((precision * recall)/(precision+recall))\n",
    "        print('F1 Score = ', f1)\n",
    "        print('F1 % = ', f1*100)\n",
    "\n",
    "    #Calculating Error Rate\n",
    "    def Err_Cal(TP,FP,FN,TN):\n",
    "        return ((FP+FN)/(TP+FP+FN+TN))\n",
    "\n",
    "    precision = Precision_Cal(TP,FP)\n",
    "    print('Precision = ', precision)\n",
    "\n",
    "    recall = Recall_Cal(TP,FN)\n",
    "    print('Recall = ', recall)\n",
    "\n",
    "    F1_Cal(precision,recall)\n",
    "\n",
    "    Err_Rate = Err_Cal(TP,FP,FN,TN)\n",
    "    print('Error Rate = ', Err_Rate)\n",
    "\n",
    "    #Accuracy is 1-error rate\n",
    "    print('Accuracy = ', 1-Err_Rate)\n",
    "    \n",
    "def rocCurve(y_true, y_pred, roc):\n",
    "    fpr, tpr, thresholds = metrics.roc_curve(y_true, y_pred)\n",
    "    # Plot ROC curve\n",
    "    plt.plot(fpr, tpr, label='ROC curve (area = %0.3f)' % roc)\n",
    "    plt.plot([0, 1], [0, 1], 'k--')  # random predictions curve\n",
    "    plt.xlim([0.0, 1.0])\n",
    "    plt.ylim([0.0, 1.0])\n",
    "    plt.xlabel('False Positive Rate or (1 - Specifity)')\n",
    "    plt.ylabel('True Positive Rate or (Sensitivity)')\n",
    "    plt.title('Receiver Operating Characteristic')\n",
    "    plt.legend(loc=\"lower right\")\n",
    "    \n",
    "def plotConfusionMatrix(cm):\n",
    "    np.set_printoptions(suppress=True)\n",
    "    mp.rc(\"figure\", figsize=(4, 2))\n",
    "\n",
    "    hm = sns.heatmap(cm, \n",
    "                cbar=False,\n",
    "                annot=True, \n",
    "                square=True,\n",
    "                fmt='d',\n",
    "                yticklabels=['real','fake'],\n",
    "                xticklabels=['real','fake'],\n",
    "                cmap='Blues'\n",
    "                )\n",
    "    plt.title('Confusion matrix - Validation dataset')\n",
    "    plt.ylabel('actual class')\n",
    "    plt.xlabel('predicted class')\n",
    "    plt.tight_layout()\n",
    "    plt.savefig('confmat_valid.eps', dpi=300)\n",
    "    plt.show()\n"
   ]
  },
  {
   "cell_type": "markdown",
   "metadata": {},
   "source": [
    "#### Training the model with coutvectors "
   ]
  },
  {
   "cell_type": "code",
   "execution_count": 13,
   "metadata": {},
   "outputs": [
    {
     "name": "stderr",
     "output_type": "stream",
     "text": [
      "C:\\ProgramData\\Anaconda3\\lib\\site-packages\\sklearn\\svm\\base.py:922: ConvergenceWarning: Liblinear failed to converge, increase the number of iterations.\n",
      "  \"the number of iterations.\", ConvergenceWarning)\n"
     ]
    },
    {
     "data": {
      "image/png": "[encoded data removed]",
      "text/plain": [
       "<Figure size 288x144 with 1 Axes>"
      ]
     },
     "metadata": {
      "needs_background": "light"
     },
     "output_type": "display_data"
    },
    {
     "name": "stdout",
     "output_type": "stream",
     "text": [
      "Precision =  0.8879075204572022\n",
      "Recall =  0.8573937037501568\n",
      "F1 Score =  0.8723838693210823\n",
      "F1 % =  87.23838693210823\n",
      "Error Rate =  0.05620345651257552\n",
      "Accuracy =  0.9437965434874245\n",
      "ROC-AUC 0.913069588366459\n"
     ]
    }
   ],
   "source": [
    "#our model to be used\n",
    "clf1 = svm.LinearSVC() \n",
    "\n",
    "clf1.fit(count_train, y_train)                       # Fit SVM classifier according to X, y\n",
    "\n",
    "predcv = clf1.predict(count_test)                     # Perform classification on an array of test vectors X.\n",
    "\n",
    "roc_auc = roc_auc_score(y_test, predcv, average= 'micro')\n",
    "\n",
    "rocCurve(y_test, predcv, roc_auc)\n",
    "\n",
    "#confusion matrix for count vector\n",
    "cmcv = metrics.confusion_matrix(y_test, predcv, labels=[0,1])\n",
    "\n",
    "#plot the confusion Matrix\n",
    "plotConfusionMatrix(cmcv)\n",
    "\n",
    "#Evaluation\n",
    "evaluation(cmcv)\n",
    "#print(\"ROC-AUC\", roc_auc)\n",
    "\n",
    "# score = metrics.accuracy_score(y_test, predcv)\n",
    "\n",
    "# # f1_score = f1_score(np.arange(y_test), np.arange(predcv), average= 'micro')\n",
    "\n",
    "# roc_auc = roc_auc_score(y_test, predcv, average= 'micro')\n",
    "\n",
    "# # print(\"F1 Score = \",f1_score)\n",
    "\n",
    "# print(\"Accuracy = \", score*100, \"%\")\n",
    "\n",
    "# print(\"ROC AUC = \", roc_auc)\n",
    "\n",
    "# print(\"ROC Curve\")\n",
    "# # metrics.roc_curve(y_test, predcv, pos_label=2)\n",
    "\n",
    "# # Compute fpr, tpr, thresholds and roc auc\n",
    "# fpr, tpr, thresholds = metrics.roc_curve(y_test, predcv)\n",
    "# # roc_auc = metrics.auc(y_test, predcv)\n",
    "\n",
    "# print(\"FPR\", fpr)\n",
    "# print(\"TPR\", tpr)\n",
    "\n",
    "# # Plot ROC curve\n",
    "# plt.plot(fpr, tpr, label='ROC curve (area = %0.3f)' % roc_auc)\n",
    "# plt.plot([0, 1], [0, 1], 'k--')  # random predictions curve\n",
    "# plt.xlim([0.0, 1.0]) \n",
    "# plt.ylim([0.0, 1.0])\n",
    "# plt.xlabel('False Positive Rate or (1 - Specifity)')\n",
    "# plt.ylabel('True Positive Rate or (Sensitivity)')\n",
    "# plt.title('Receiver Operating Characteristic')\n",
    "# plt.legend(loc=\"lower right\")"
   ]
  },
  {
   "cell_type": "markdown",
   "metadata": {},
   "source": [
    "#### Training the model with tfidf Vectors"
   ]
  },
  {
   "cell_type": "code",
   "execution_count": 14,
   "metadata": {},
   "outputs": [
    {
     "data": {
      "image/png": "[encoded data removed]",
      "text/plain": [
       "<Figure size 288x144 with 1 Axes>"
      ]
     },
     "metadata": {
      "needs_background": "light"
     },
     "output_type": "display_data"
    },
    {
     "name": "stdout",
     "output_type": "stream",
     "text": [
      "Precision =  0.9401362326434373\n",
      "Recall =  0.9001630502947447\n",
      "F1 Score =  0.9197155122701351\n",
      "F1 % =  91.97155122701352\n",
      "Error Rate =  0.03521146550512857\n",
      "Accuracy =  0.9647885344948715\n",
      "ROC-AUC 0.9418061376346968\n"
     ]
    }
   ],
   "source": [
    "# # print(\"TfIdf Vectorization\")\n",
    "# clf.fit(tfidf_train, y_train)                       # Fit SVM classifier according to X, y\n",
    "\n",
    "# predtf = clf.predict(tfidf_test)                     # Perform classification on an array of test vectors X.\n",
    "\n",
    "# score = metrics.accuracy_score(y_test, predtf)\n",
    "\n",
    "# # f1_score = f1_score(y_test, predtf, average= 'micro')\n",
    "\n",
    "# roc_auc = roc_auc_score(y_test, predtf, average= 'micro')\n",
    "\n",
    "# # print(\"F1 Score = \",f1_score)\n",
    "\n",
    "# print(\"Accuracy = \", score*100, \"%\")\n",
    "\n",
    "# print(\"ROC AUC = \",roc_auc )\n",
    "\n",
    "# print(\"ROC Curve\")\n",
    "# # Compute fpr, tpr, thresholds and roc auc\n",
    "# fpr, tpr, thresholds = metrics.roc_curve(y_test, predtf)\n",
    "# # roc_auc = metrics.auc(y_test, predcv)\n",
    "\n",
    "# print(\"FPR\", fpr)\n",
    "# print(\"TPR\", tpr)\n",
    "\n",
    "# # Plot ROC curve\n",
    "# plt.plot(fpr, tpr, label='ROC curve (area = %0.3f)' % roc_auc)\n",
    "# plt.plot([0, 1], [0, 1], 'k--')  # random predictions curve\n",
    "# plt.xlim([0.0, 1.0])\n",
    "# plt.ylim([0.0, 1.0])\n",
    "# plt.xlabel('False Positive Rate or (1 - Specifity)')\n",
    "# plt.ylabel('True Positive Rate or (Sensitivity)')\n",
    "# plt.title('Receiver Operating Characteristic')\n",
    "# plt.legend(loc=\"lower right\")\n",
    "#our model to be used\n",
    "clf2 = svm.LinearSVC()\n",
    "\n",
    "# print(\"TfIdf Vectorization\")\n",
    "clf2.fit(tfidf_train, y_train)                       # Fit SVM classifier according to X, y\n",
    "\n",
    "predtf = clf2.predict(tfidf_test)                     # Perform classification on an array of test vectors X.\n",
    "\n",
    "#confusion matrix for tfidf\n",
    "cmtf = metrics.confusion_matrix(y_test, predtf, labels=[0,1])\n",
    "\n",
    "tf_roc_auc = roc_auc_score(y_test, predtf, average= 'micro')\n",
    "\n",
    "rocCurve(y_test, predtf, tf_roc_auc)\n",
    "\n",
    "#plot the confusion Matrix\n",
    "plotConfusionMatrix(cmtf)\n",
    "\n",
    "#Evaluation\n",
    "evaluation(cmtf)\n",
    "print(\"ROC-AUC\", tf_roc_auc)"
   ]
  },
  {
   "cell_type": "markdown",
   "metadata": {},
   "source": [
    "### Inference"
   ]
  },
  {
   "cell_type": "markdown",
   "metadata": {},
   "source": [
    "###### The ROC Curve with tfidf vectorization is higher which is 0.9481 hence gives an accurate prediction\n",
    "\n",
    "We predicted that 27155 news are real and they are real (True Positive)\n",
    "\n",
    "We predicted 796 news were fake but they are real (False Negative)\n",
    "\n",
    "We predicted 457 news are real but they are fake  (False positive)\n",
    "\n",
    "We predicted 7177 news are fake and they are fake (True Negative)"
   ]
  },
  {
   "cell_type": "code",
   "execution_count": 15,
   "metadata": {},
   "outputs": [],
   "source": [
    "#K fold Cross Validation\n",
    "\n",
    "#Defining the split into 5 Fold\n",
    "from sklearn.model_selection import StratifiedKFold\n",
    "\n",
    "le = LabelEncoder()\n",
    "le.fit(df['Label'])\n",
    "\n",
    "df_labels = pd.DataFrame(np.array(le.transform(df['Label'])))\n",
    "\n",
    "skf = StratifiedKFold(n_splits = 5)\n",
    "\n",
    "for trn_indx, tst_indx in skf.split(df['Content'],df_labels):\n",
    "    skf_X_train, skf_X_test = df['Content'].iloc[trn_indx], df['Content'].iloc[tst_indx]\n",
    "    skf_Y_train, skf_Y_test = df_labels.iloc[trn_indx], df_labels.iloc[tst_indx]"
   ]
  },
  {
   "cell_type": "code",
   "execution_count": 16,
   "metadata": {},
   "outputs": [],
   "source": [
    "# Fit and transform the training data for count vector\n",
    "skf_count_train = count_vectorizer.fit_transform(skf_X_train)\n",
    "\n",
    "# Transform the test set \n",
    "skf_count_test = count_vectorizer.transform(skf_X_test)\n",
    "\n",
    "# Fit and transform the training data for tfidf\n",
    "skf_tfidf_train = tfidf_vectorizer.fit_transform(skf_X_train)\n",
    "\n",
    "# Transform the test set \n",
    "skf_tfidf_test = tfidf_vectorizer.transform(skf_X_test)"
   ]
  },
  {
   "cell_type": "code",
   "execution_count": 17,
   "metadata": {},
   "outputs": [
    {
     "name": "stderr",
     "output_type": "stream",
     "text": [
      "C:\\ProgramData\\Anaconda3\\lib\\site-packages\\sklearn\\utils\\validation.py:761: DataConversionWarning: A column-vector y was passed when a 1d array was expected. Please change the shape of y to (n_samples, ), for example using ravel().\n",
      "  y = column_or_1d(y, warn=True)\n",
      "C:\\ProgramData\\Anaconda3\\lib\\site-packages\\sklearn\\svm\\base.py:922: ConvergenceWarning: Liblinear failed to converge, increase the number of iterations.\n",
      "  \"the number of iterations.\", ConvergenceWarning)\n"
     ]
    },
    {
     "data": {
      "image/png": "[encoded data removed]",
      "text/plain": [
       "<Figure size 288x144 with 1 Axes>"
      ]
     },
     "metadata": {
      "needs_background": "light"
     },
     "output_type": "display_data"
    },
    {
     "name": "stdout",
     "output_type": "stream",
     "text": [
      "Precision =  0.8797083839611178\n",
      "Recall =  0.8936432832750463\n",
      "F1 Score =  0.8866210837840596\n",
      "F1 % =  88.66210837840596\n",
      "Error Rate =  0.05151627561902995\n",
      "Accuracy =  0.9484837243809701\n",
      "ROC-AUC 0.9290425335860415\n"
     ]
    }
   ],
   "source": [
    "skf_clf1 = svm.LinearSVC() \n",
    "\n",
    "skf_clf1.fit(skf_count_train, skf_Y_train)                       # Fit SVM classifier according to X, y\n",
    "\n",
    "skf_predcv = skf_clf1.predict(skf_count_test)                     # Perform classification on an array of test vectors X.\n",
    "\n",
    "skf_cv_roc_auc = roc_auc_score(skf_Y_test, skf_predcv, average= 'micro')\n",
    "\n",
    "rocCurve(skf_Y_test, skf_predcv, skf_cv_roc_auc)\n",
    "\n",
    "#confusion matrix for count vector\n",
    "skf_cm_cv = metrics.confusion_matrix(skf_Y_test, skf_predcv, labels=[0,1])\n",
    "\n",
    "#plot the confusion Matrix\n",
    "plotConfusionMatrix(skf_cm_cv)\n",
    "\n",
    "#Evaluation\n",
    "evaluation(skf_cm_cv)\n",
    "\n",
    "print(\"ROC-AUC\", skf_cv_roc_auc)\n"
   ]
  },
  {
   "cell_type": "code",
   "execution_count": 19,
   "metadata": {},
   "outputs": [
    {
     "name": "stderr",
     "output_type": "stream",
     "text": [
      "C:\\ProgramData\\Anaconda3\\lib\\site-packages\\sklearn\\utils\\validation.py:761: DataConversionWarning: A column-vector y was passed when a 1d array was expected. Please change the shape of y to (n_samples, ), for example using ravel().\n",
      "  y = column_or_1d(y, warn=True)\n"
     ]
    },
    {
     "data": {
      "image/png": "[encoded data removed]",
      "text/plain": [
       "<Figure size 288x144 with 1 Axes>"
      ]
     },
     "metadata": {
      "needs_background": "light"
     },
     "output_type": "display_data"
    },
    {
     "name": "stdout",
     "output_type": "stream",
     "text": [
      "Precision =  0.9264158743282348\n",
      "Recall =  0.9220325036000823\n",
      "F1 Score =  0.9242189916486236\n",
      "F1 % =  92.42189916486237\n",
      "Error Rate =  0.03408142446443476\n",
      "Accuracy =  0.9659185755355653\n",
      "ROC-AUC 0.9503607594324864\n"
     ]
    }
   ],
   "source": [
    "# print(\"TfIdf Vectorization\")\n",
    "skf_clf2 = svm.LinearSVC()\n",
    "\n",
    "skf_clf2.fit(skf_tfidf_train, skf_Y_train)                       # Fit SVM classifier according to X, y\n",
    "\n",
    "skf_predtf = skf_clf2.predict(skf_tfidf_test)                     # Perform classification on an array of test vectors X.\n",
    "\n",
    "skf_tf_roc_auc = roc_auc_score(skf_Y_test, skf_predtf, average= 'micro')\n",
    "\n",
    "rocCurve(skf_Y_test, skf_predtf, skf_tf_roc_auc)\n",
    "\n",
    "#confusion matrix for count vector\n",
    "skf_tf_cm = metrics.confusion_matrix(skf_Y_test, skf_predtf, labels=[0,1])\n",
    "\n",
    "#plot the confusion Matrix\n",
    "plotConfusionMatrix(skf_tf_cm)\n",
    "\n",
    "#Evaluation\n",
    "evaluation(skf_tf_cm)\n",
    "\n",
    "print(\"ROC-AUC\", skf_tf_roc_auc)"
   ]
  },
  {
   "cell_type": "markdown",
   "metadata": {},
   "source": [
    "### Inference"
   ]
  },
  {
   "cell_type": "markdown",
   "metadata": {},
   "source": [
    "##### The ROC Curve with tfidf vectorization is highest which is 0.9503 hence gives an accurate prediction\n",
    "\n",
    "We predicted that 16349 news are real and they are real (True Positive)\n",
    "\n",
    "We predicted 379 news were fake but they are real (False Negative)\n",
    "\n",
    "We predicted 356 news are real but they are fake (False positive)\n",
    "\n",
    "We predicted  news are fake and they are fake (True Negative)"
   ]
  },
  {
   "cell_type": "code",
   "execution_count": null,
   "metadata": {},
   "outputs": [],
   "source": []
  }
 ],
 "metadata": {
  "kernelspec": {
   "display_name": "Python 3",
   "language": "python",
   "name": "python3"
  },
  "language_info": {
   "codemirror_mode": {
    "name": "ipython",
    "version": 3
   },
   "file_extension": ".py",
   "mimetype": "text/x-python",
   "name": "python",
   "nbconvert_exporter": "python",
   "pygments_lexer": "ipython3",
   "version": "3.7.1"
  }
 },
 "nbformat": 4,
 "nbformat_minor": 2
}
